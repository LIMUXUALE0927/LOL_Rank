{
 "cells": [
  {
   "cell_type": "code",
   "execution_count": 5,
   "metadata": {},
   "outputs": [
    {
     "data": {
      "text/html": [
       "<div>\n",
       "<style scoped>\n",
       "    .dataframe tbody tr th:only-of-type {\n",
       "        vertical-align: middle;\n",
       "    }\n",
       "\n",
       "    .dataframe tbody tr th {\n",
       "        vertical-align: top;\n",
       "    }\n",
       "\n",
       "    .dataframe thead th {\n",
       "        text-align: right;\n",
       "    }\n",
       "</style>\n",
       "<table border=\"1\" class=\"dataframe\">\n",
       "  <thead>\n",
       "    <tr style=\"text-align: right;\">\n",
       "      <th></th>\n",
       "      <th>summonerName</th>\n",
       "      <th>tier</th>\n",
       "      <th>rank</th>\n",
       "      <th>leaguePoints</th>\n",
       "    </tr>\n",
       "  </thead>\n",
       "  <tbody>\n",
       "    <tr>\n",
       "      <th>0</th>\n",
       "      <td>17 world no1 mid</td>\n",
       "      <td>MASTER</td>\n",
       "      <td>I</td>\n",
       "      <td>209</td>\n",
       "    </tr>\n",
       "    <tr>\n",
       "      <th>1</th>\n",
       "      <td>일념지옥일념천국</td>\n",
       "      <td>MASTER</td>\n",
       "      <td>I</td>\n",
       "      <td>53</td>\n",
       "    </tr>\n",
       "    <tr>\n",
       "      <th>2</th>\n",
       "      <td>jhioio</td>\n",
       "      <td>PLATINUM</td>\n",
       "      <td>II</td>\n",
       "      <td>24</td>\n",
       "    </tr>\n",
       "    <tr>\n",
       "      <th>3</th>\n",
       "      <td>joy1213</td>\n",
       "      <td>GRANDMASTER</td>\n",
       "      <td>I</td>\n",
       "      <td>352</td>\n",
       "    </tr>\n",
       "    <tr>\n",
       "      <th>4</th>\n",
       "      <td>05 02 28 AD</td>\n",
       "      <td>CHALLENGER</td>\n",
       "      <td>I</td>\n",
       "      <td>622</td>\n",
       "    </tr>\n",
       "    <tr>\n",
       "      <th>5</th>\n",
       "      <td>xiaoxiaomengyan</td>\n",
       "      <td>DIAMOND</td>\n",
       "      <td>I</td>\n",
       "      <td>4</td>\n",
       "    </tr>\n",
       "  </tbody>\n",
       "</table>\n",
       "</div>"
      ],
      "text/plain": [
       "       summonerName         tier rank  leaguePoints\n",
       "0  17 world no1 mid       MASTER    I           209\n",
       "1          일념지옥일념천국       MASTER    I            53\n",
       "2            jhioio     PLATINUM   II            24\n",
       "3           joy1213  GRANDMASTER    I           352\n",
       "4       05 02 28 AD   CHALLENGER    I           622\n",
       "5   xiaoxiaomengyan      DIAMOND    I             4"
      ]
     },
     "execution_count": 5,
     "metadata": {},
     "output_type": "execute_result"
    }
   ],
   "source": [
    "from riotwatcher import LolWatcher, ApiError\n",
    "import pandas as pd\n",
    "\n",
    "apiKey = 'RGAPI-72a071f8-44b1-4b69-8cfc-bc34be3c7421'\n",
    "lol_watcher = LolWatcher(apiKey)\n",
    "region = 'kr'\n",
    "\n",
    "txt = input('IDs:')\n",
    "\n",
    "namelist = txt.split(',')\n",
    "namelist = [i.strip() for i in namelist]\n",
    "namelist = [i.replace('\\xa0', ' ') for i in namelist]\n",
    "\n",
    "stats = pd.DataFrame()\n",
    "for name in namelist:\n",
    "    try:\n",
    "        summoner_id = lol_watcher.summoner.by_name(region, name)['id']\n",
    "        data = lol_watcher.league.by_summoner(region, summoner_id)\n",
    "        stats = stats.append(data, ignore_index=True)\n",
    "    except:\n",
    "        continue\n",
    "\n",
    "stats[['summonerName', 'tier', 'rank', 'leaguePoints']]\n"
   ]
  },
  {
   "cell_type": "code",
   "execution_count": null,
   "metadata": {},
   "outputs": [],
   "source": []
  }
 ],
 "metadata": {
  "interpreter": {
   "hash": "9b63f711193cf48d0c27b3ed6d24b45bd9e86f5e95fec1ade94a53bcdb6ea226"
  },
  "kernelspec": {
   "display_name": "Python 3.9.7 ('my_conda')",
   "language": "python",
   "name": "python3"
  },
  "language_info": {
   "codemirror_mode": {
    "name": "ipython",
    "version": 3
   },
   "file_extension": ".py",
   "mimetype": "text/x-python",
   "name": "python",
   "nbconvert_exporter": "python",
   "pygments_lexer": "ipython3",
   "version": "3.9.7"
  },
  "orig_nbformat": 4
 },
 "nbformat": 4,
 "nbformat_minor": 2
}
